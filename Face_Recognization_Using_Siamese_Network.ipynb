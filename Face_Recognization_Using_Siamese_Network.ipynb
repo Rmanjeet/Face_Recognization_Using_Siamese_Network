{
  "cells": [
    {
      "cell_type": "markdown",
      "source": [
        "# **Face Recognization using Saimese Network**"
      ],
      "metadata": {
        "id": "twsRlkG3q9bS"
      }
    },
    {
      "cell_type": "markdown",
      "source": [
        "## **1. Import Dependences**"
      ],
      "metadata": {
        "id": "D0oiben7rFGx"
      }
    },
    {
      "cell_type": "code",
      "execution_count": null,
      "metadata": {
        "id": "frZ5eZt8_nuK"
      },
      "outputs": [],
      "source": [
        "import pandas as pd\n",
        "import os\n",
        "from glob import glob\n",
        "import tensorflow as tf\n",
        "import numpy as np\n",
        "import cv2\n",
        "from tensorflow.keras.metrics import Precision, Recall\n",
        "\n",
        "from tensorflow.keras.layers import Dense, Conv2D, Flatten, Input, MaxPooling2D\n",
        "from tensorflow.keras.models import Model"
      ]
    },
    {
      "cell_type": "markdown",
      "source": [
        "## **2. Load Data**"
      ],
      "metadata": {
        "id": "N-vCK7F9rRbx"
      }
    },
    {
      "cell_type": "code",
      "execution_count": null,
      "metadata": {
        "id": "7Z-Tj_v6_u5S"
      },
      "outputs": [],
      "source": [
        "data_dir = 'Training Data'\n",
        "\n",
        "anc_path = os.path.join(data_dir, 'Anchor')\n",
        "val_path = os.path.join(data_dir, 'Validation')"
      ]
    },
    {
      "cell_type": "code",
      "execution_count": null,
      "metadata": {
        "colab": {
          "base_uri": "https://localhost:8080/"
        },
        "id": "3gpCGfLA_3fa",
        "outputId": "51383a01-d47e-4669-a569-83d2436b02b7"
      },
      "outputs": [
        {
          "output_type": "execute_result",
          "data": {
            "text/plain": [
              "['Mark Zuckerberg', 'Donald Trump', 'Elon Musk']"
            ]
          },
          "metadata": {},
          "execution_count": 91
        }
      ],
      "source": [
        "Names = os.listdir(anc_path)\n",
        "Names"
      ]
    },
    {
      "cell_type": "code",
      "source": [
        "for anchor in Names:\n",
        "    for compare in Names:\n",
        "        if anchor == compare:\n",
        "            print((anchor, compare), '---------------Similar')\n",
        "        else:\n",
        "            print((anchor, compare), '---------------Non Similar')"
      ],
      "metadata": {
        "colab": {
          "base_uri": "https://localhost:8080/"
        },
        "id": "S-B2XoZ8q0iD",
        "outputId": "29476730-cd59-496a-a84c-b48031ddaed3"
      },
      "execution_count": 168,
      "outputs": [
        {
          "output_type": "stream",
          "name": "stdout",
          "text": [
            "('Mark Zuckerberg', 'Mark Zuckerberg') ---------------Similar\n",
            "('Mark Zuckerberg', 'Donald Trump') ---------------Non Similar\n",
            "('Mark Zuckerberg', 'Elon Musk') ---------------Non Similar\n",
            "('Donald Trump', 'Mark Zuckerberg') ---------------Non Similar\n",
            "('Donald Trump', 'Donald Trump') ---------------Similar\n",
            "('Donald Trump', 'Elon Musk') ---------------Non Similar\n",
            "('Elon Musk', 'Mark Zuckerberg') ---------------Non Similar\n",
            "('Elon Musk', 'Donald Trump') ---------------Non Similar\n",
            "('Elon Musk', 'Elon Musk') ---------------Similar\n"
          ]
        }
      ]
    },
    {
      "cell_type": "markdown",
      "source": [
        "## **3. Create Dataset**"
      ],
      "metadata": {
        "id": "9K1GHkGsrZ0J"
      }
    },
    {
      "cell_type": "code",
      "execution_count": null,
      "metadata": {
        "id": "utWnZbdY_4FD"
      },
      "outputs": [],
      "source": [
        "# Image Pre Processing\n",
        "def preprocess(file_path):\n",
        "    img = cv2.imread(file_path)\n",
        "    img = cv2.resize(img, (100,100))\n",
        "    img = img / 255.0\n",
        "    return img\n"
      ]
    },
    {
      "cell_type": "code",
      "execution_count": null,
      "metadata": {
        "id": "cLhajxqw_9og"
      },
      "outputs": [],
      "source": [
        "# Create Pairs\n",
        "\n",
        "Pairs = {'Anchor':[], 'Compare':[], 'Target':[]}\n",
        "\n",
        "for anchor in Names:\n",
        "    for compare in Names:\n",
        "        if anchor == compare:\n",
        "            for anchor_img in glob(anc_path+'/'+anchor+'/*.jpg'):\n",
        "                for compare_img in glob(val_path+'/'+compare+'/*.jpg'):\n",
        "                    Pairs['Anchor'].append(preprocess(anchor_img))\n",
        "                    Pairs['Compare'].append(preprocess(compare_img))\n",
        "                    Pairs['Target'].append(1)\n",
        "        else:\n",
        "            for anchor_img in glob(anc_path+'/'+anchor+'/*.jpg'):\n",
        "                for compare_img in glob(val_path+'/'+compare+'/*.jpg'):\n",
        "                    Pairs['Anchor'].append(preprocess(anchor_img))\n",
        "                    Pairs['Compare'].append(preprocess(compare_img))\n",
        "                    Pairs['Target'].append(0)"
      ]
    },
    {
      "cell_type": "code",
      "execution_count": null,
      "metadata": {
        "id": "sUlELhyA_-Ox"
      },
      "outputs": [],
      "source": [
        "Pairs['Anchor'] = np.array(Pairs['Anchor'])     # shape (81, 100, 100, 3)\n",
        "Pairs['Compare'] = np.array(Pairs['Compare'])   # shape (81, 100, 100, 3)\n",
        "Pairs['Target'] = np.array(Pairs['Target'])     # shape (81,)"
      ]
    },
    {
      "cell_type": "code",
      "source": [
        "Pairs['Anchor'].shape, Pairs['Compare'].shape"
      ],
      "metadata": {
        "colab": {
          "base_uri": "https://localhost:8080/"
        },
        "id": "Y3KLhEcNZcOP",
        "outputId": "b7c4c7f1-2555-4c88-f687-626d4bb28ca5"
      },
      "execution_count": null,
      "outputs": [
        {
          "output_type": "execute_result",
          "data": {
            "text/plain": [
              "((462, 100, 100, 3), (462, 100, 100, 3))"
            ]
          },
          "metadata": {},
          "execution_count": 110
        }
      ]
    },
    {
      "cell_type": "markdown",
      "source": [
        "## **4.Split Dataset**"
      ],
      "metadata": {
        "id": "-wC3uz-JrjjR"
      }
    },
    {
      "cell_type": "code",
      "source": [
        "from sklearn.model_selection import train_test_split\n",
        "Xtrain_anc, Xtest_anc, Xtrain_comp, Xtest_comp, ytrain_label, ytest_label = train_test_split(Pairs['Anchor'], Pairs['Compare'], Pairs['Target'], shuffle=True, test_size=0.2, random_state=42)"
      ],
      "metadata": {
        "id": "55WWsb0RByCj"
      },
      "execution_count": null,
      "outputs": []
    },
    {
      "cell_type": "markdown",
      "source": [
        "## **5. Define Model**"
      ],
      "metadata": {
        "id": "ebsuBw6yrrBB"
      }
    },
    {
      "cell_type": "code",
      "source": [
        "def make_embedding(): \n",
        "    inp = Input(shape=(100,100,3), name='input_image')\n",
        "    \n",
        "    # First block\n",
        "    c1 = Conv2D(64, (10,10), activation='relu')(inp)\n",
        "    m1 = MaxPooling2D(64, (2,2), padding='same')(c1)\n",
        "    \n",
        "    # Second block\n",
        "    c2 = Conv2D(128, (7,7), activation='relu')(m1)\n",
        "    m2 = MaxPooling2D(64, (2,2), padding='same')(c2)\n",
        "    \n",
        "    # Third block \n",
        "    c3 = Conv2D(128, (4,4), activation='relu')(m2)\n",
        "    m3 = MaxPooling2D(64, (2,2), padding='same')(c3)\n",
        "    \n",
        "    # Final embedding block\n",
        "    c4 = Conv2D(256, (4,4), activation='relu')(m3)\n",
        "    f1 = Flatten()(c4)\n",
        "    d1 = Dense(4096, activation='sigmoid')(f1)\n",
        "    \n",
        "    return Model(inputs=[inp], outputs=[d1], name='embedding')\n",
        "\n",
        "\n",
        "embedding = make_embedding()\n",
        "\n",
        "def L1_dist(input_embedding, validation_embedding):\n",
        "  return tf.math.abs(input_embedding - validation_embedding)\n",
        "\n",
        "def siamese_model(): \n",
        "    input_image = Input(shape=(100,100,3))\n",
        "    validation_image = Input(shape=(100,100,3))\n",
        "\n",
        "    distances = L1_dist(embedding(input_image), embedding(validation_image))\n",
        "    classifier = Dense(1, activation='sigmoid')(distances)\n",
        "    \n",
        "    return Model(inputs=[input_image, validation_image], outputs=classifier, name='SiameseNetwork')\n",
        "\n",
        "model = siamese_model()"
      ],
      "metadata": {
        "id": "Su51M-QABx-R"
      },
      "execution_count": null,
      "outputs": []
    },
    {
      "cell_type": "markdown",
      "source": [
        "## **6. Train Model**"
      ],
      "metadata": {
        "id": "pO39o2jFrxq2"
      }
    },
    {
      "cell_type": "code",
      "source": [
        "binary_cross_loss = tf.losses.BinaryCrossentropy()\n",
        "opt = tf.keras.optimizers.Adam(1e-4) # 0.0001\n",
        "model.compile(optimizer=opt, loss=binary_cross_loss, metrics=['accuracy'])\n",
        "\n",
        "callback = tf.keras.callbacks.ModelCheckpoint(filepath='saved_mode', save_best_only=True, verbose=1, monitor='val_loss')\n",
        "model_history = model.fit([Xtrain_anc, Xtrain_comp], ytrain_label, epochs=50, callbacks= callback, validation_split=0.3)"
      ],
      "metadata": {
        "colab": {
          "base_uri": "https://localhost:8080/"
        },
        "id": "nBOQDo-3Bx6m",
        "outputId": "49da9a63-3a9e-4690-b640-c4843a660f47"
      },
      "execution_count": null,
      "outputs": [
        {
          "output_type": "stream",
          "name": "stdout",
          "text": [
            "Epoch 1/50\n",
            "9/9 [==============================] - ETA: 0s - loss: 0.6469 - accuracy: 0.6434\n",
            "Epoch 00001: val_loss improved from inf to 0.61764, saving model to saved_mode\n",
            "INFO:tensorflow:Assets written to: saved_mode/assets\n",
            "9/9 [==============================] - 20s 2s/step - loss: 0.6469 - accuracy: 0.6434 - val_loss: 0.6176 - val_accuracy: 0.6667\n",
            "Epoch 2/50\n",
            "9/9 [==============================] - ETA: 0s - loss: 0.6025 - accuracy: 0.6899\n",
            "Epoch 00002: val_loss improved from 0.61764 to 0.57855, saving model to saved_mode\n",
            "INFO:tensorflow:Assets written to: saved_mode/assets\n",
            "9/9 [==============================] - 18s 2s/step - loss: 0.6025 - accuracy: 0.6899 - val_loss: 0.5786 - val_accuracy: 0.6757\n",
            "Epoch 3/50\n",
            "9/9 [==============================] - ETA: 0s - loss: 0.5613 - accuracy: 0.6744\n",
            "Epoch 00003: val_loss improved from 0.57855 to 0.53778, saving model to saved_mode\n",
            "INFO:tensorflow:Assets written to: saved_mode/assets\n",
            "9/9 [==============================] - 18s 2s/step - loss: 0.5613 - accuracy: 0.6744 - val_loss: 0.5378 - val_accuracy: 0.6847\n",
            "Epoch 4/50\n",
            "9/9 [==============================] - ETA: 0s - loss: 0.5075 - accuracy: 0.7132\n",
            "Epoch 00004: val_loss improved from 0.53778 to 0.50852, saving model to saved_mode\n",
            "INFO:tensorflow:Assets written to: saved_mode/assets\n",
            "9/9 [==============================] - 17s 2s/step - loss: 0.5075 - accuracy: 0.7132 - val_loss: 0.5085 - val_accuracy: 0.6757\n",
            "Epoch 5/50\n",
            "9/9 [==============================] - ETA: 0s - loss: 0.4799 - accuracy: 0.7287\n",
            "Epoch 00005: val_loss improved from 0.50852 to 0.43739, saving model to saved_mode\n",
            "INFO:tensorflow:Assets written to: saved_mode/assets\n",
            "9/9 [==============================] - 17s 2s/step - loss: 0.4799 - accuracy: 0.7287 - val_loss: 0.4374 - val_accuracy: 0.7477\n",
            "Epoch 6/50\n",
            "9/9 [==============================] - ETA: 0s - loss: 0.4145 - accuracy: 0.8140\n",
            "Epoch 00006: val_loss improved from 0.43739 to 0.37946, saving model to saved_mode\n",
            "INFO:tensorflow:Assets written to: saved_mode/assets\n",
            "9/9 [==============================] - 18s 2s/step - loss: 0.4145 - accuracy: 0.8140 - val_loss: 0.3795 - val_accuracy: 0.8018\n",
            "Epoch 7/50\n",
            "9/9 [==============================] - ETA: 0s - loss: 0.3484 - accuracy: 0.8178\n",
            "Epoch 00007: val_loss improved from 0.37946 to 0.30440, saving model to saved_mode\n",
            "INFO:tensorflow:Assets written to: saved_mode/assets\n",
            "9/9 [==============================] - 17s 2s/step - loss: 0.3484 - accuracy: 0.8178 - val_loss: 0.3044 - val_accuracy: 0.8559\n",
            "Epoch 8/50\n",
            "9/9 [==============================] - ETA: 0s - loss: 0.3132 - accuracy: 0.8837\n",
            "Epoch 00008: val_loss did not improve from 0.30440\n",
            "9/9 [==============================] - 14s 2s/step - loss: 0.3132 - accuracy: 0.8837 - val_loss: 0.3070 - val_accuracy: 0.8739\n",
            "Epoch 9/50\n",
            "9/9 [==============================] - ETA: 0s - loss: 0.2677 - accuracy: 0.8992\n",
            "Epoch 00009: val_loss improved from 0.30440 to 0.26764, saving model to saved_mode\n",
            "INFO:tensorflow:Assets written to: saved_mode/assets\n",
            "9/9 [==============================] - 17s 2s/step - loss: 0.2677 - accuracy: 0.8992 - val_loss: 0.2676 - val_accuracy: 0.9099\n",
            "Epoch 10/50\n",
            "9/9 [==============================] - ETA: 0s - loss: 0.1872 - accuracy: 0.9457\n",
            "Epoch 00010: val_loss improved from 0.26764 to 0.20873, saving model to saved_mode\n",
            "INFO:tensorflow:Assets written to: saved_mode/assets\n",
            "9/9 [==============================] - 17s 2s/step - loss: 0.1872 - accuracy: 0.9457 - val_loss: 0.2087 - val_accuracy: 0.9099\n",
            "Epoch 11/50\n",
            "9/9 [==============================] - ETA: 0s - loss: 0.1216 - accuracy: 0.9767\n",
            "Epoch 00011: val_loss improved from 0.20873 to 0.12717, saving model to saved_mode\n",
            "INFO:tensorflow:Assets written to: saved_mode/assets\n",
            "9/9 [==============================] - 18s 2s/step - loss: 0.1216 - accuracy: 0.9767 - val_loss: 0.1272 - val_accuracy: 0.9640\n",
            "Epoch 12/50\n",
            "9/9 [==============================] - ETA: 0s - loss: 0.0706 - accuracy: 0.9961\n",
            "Epoch 00012: val_loss improved from 0.12717 to 0.12520, saving model to saved_mode\n",
            "INFO:tensorflow:Assets written to: saved_mode/assets\n",
            "9/9 [==============================] - 17s 2s/step - loss: 0.0706 - accuracy: 0.9961 - val_loss: 0.1252 - val_accuracy: 0.9730\n",
            "Epoch 13/50\n",
            "9/9 [==============================] - ETA: 0s - loss: 0.0757 - accuracy: 0.9845\n",
            "Epoch 00013: val_loss did not improve from 0.12520\n",
            "9/9 [==============================] - 14s 2s/step - loss: 0.0757 - accuracy: 0.9845 - val_loss: 0.1407 - val_accuracy: 0.9459\n",
            "Epoch 14/50\n",
            "9/9 [==============================] - ETA: 0s - loss: 0.0628 - accuracy: 0.9884\n",
            "Epoch 00014: val_loss improved from 0.12520 to 0.08150, saving model to saved_mode\n",
            "INFO:tensorflow:Assets written to: saved_mode/assets\n",
            "9/9 [==============================] - 17s 2s/step - loss: 0.0628 - accuracy: 0.9884 - val_loss: 0.0815 - val_accuracy: 0.9910\n",
            "Epoch 15/50\n",
            "9/9 [==============================] - ETA: 0s - loss: 0.0418 - accuracy: 0.9961\n",
            "Epoch 00015: val_loss improved from 0.08150 to 0.04313, saving model to saved_mode\n",
            "INFO:tensorflow:Assets written to: saved_mode/assets\n",
            "9/9 [==============================] - 17s 2s/step - loss: 0.0418 - accuracy: 0.9961 - val_loss: 0.0431 - val_accuracy: 0.9910\n",
            "Epoch 16/50\n",
            "9/9 [==============================] - ETA: 0s - loss: 0.0204 - accuracy: 1.0000\n",
            "Epoch 00016: val_loss improved from 0.04313 to 0.04197, saving model to saved_mode\n",
            "INFO:tensorflow:Assets written to: saved_mode/assets\n",
            "9/9 [==============================] - 18s 2s/step - loss: 0.0204 - accuracy: 1.0000 - val_loss: 0.0420 - val_accuracy: 0.9910\n",
            "Epoch 17/50\n",
            "9/9 [==============================] - ETA: 0s - loss: 0.0551 - accuracy: 0.9806\n",
            "Epoch 00017: val_loss did not improve from 0.04197\n",
            "9/9 [==============================] - 14s 2s/step - loss: 0.0551 - accuracy: 0.9806 - val_loss: 0.0772 - val_accuracy: 0.9730\n",
            "Epoch 18/50\n",
            "9/9 [==============================] - ETA: 0s - loss: 0.0354 - accuracy: 0.9922\n",
            "Epoch 00018: val_loss did not improve from 0.04197\n",
            "9/9 [==============================] - 14s 2s/step - loss: 0.0354 - accuracy: 0.9922 - val_loss: 0.0698 - val_accuracy: 0.9820\n",
            "Epoch 19/50\n",
            "9/9 [==============================] - ETA: 0s - loss: 0.0599 - accuracy: 0.9767\n",
            "Epoch 00019: val_loss did not improve from 0.04197\n",
            "9/9 [==============================] - 14s 2s/step - loss: 0.0599 - accuracy: 0.9767 - val_loss: 0.0656 - val_accuracy: 0.9820\n",
            "Epoch 20/50\n",
            "9/9 [==============================] - ETA: 0s - loss: 0.0279 - accuracy: 0.9884\n",
            "Epoch 00020: val_loss improved from 0.04197 to 0.02616, saving model to saved_mode\n",
            "INFO:tensorflow:Assets written to: saved_mode/assets\n",
            "9/9 [==============================] - 17s 2s/step - loss: 0.0279 - accuracy: 0.9884 - val_loss: 0.0262 - val_accuracy: 1.0000\n",
            "Epoch 21/50\n",
            "9/9 [==============================] - ETA: 0s - loss: 0.0206 - accuracy: 1.0000\n",
            "Epoch 00021: val_loss improved from 0.02616 to 0.02420, saving model to saved_mode\n",
            "INFO:tensorflow:Assets written to: saved_mode/assets\n",
            "9/9 [==============================] - 17s 2s/step - loss: 0.0206 - accuracy: 1.0000 - val_loss: 0.0242 - val_accuracy: 1.0000\n",
            "Epoch 22/50\n",
            "9/9 [==============================] - ETA: 0s - loss: 0.0254 - accuracy: 0.9961\n",
            "Epoch 00022: val_loss did not improve from 0.02420\n",
            "9/9 [==============================] - 14s 2s/step - loss: 0.0254 - accuracy: 0.9961 - val_loss: 0.0450 - val_accuracy: 0.9820\n",
            "Epoch 23/50\n",
            "9/9 [==============================] - ETA: 0s - loss: 0.0198 - accuracy: 0.9961\n",
            "Epoch 00023: val_loss did not improve from 0.02420\n",
            "9/9 [==============================] - 14s 2s/step - loss: 0.0198 - accuracy: 0.9961 - val_loss: 0.0414 - val_accuracy: 0.9910\n",
            "Epoch 24/50\n",
            "9/9 [==============================] - ETA: 0s - loss: 0.0218 - accuracy: 1.0000\n",
            "Epoch 00024: val_loss did not improve from 0.02420\n",
            "9/9 [==============================] - 14s 2s/step - loss: 0.0218 - accuracy: 1.0000 - val_loss: 0.0337 - val_accuracy: 0.9820\n",
            "Epoch 25/50\n",
            "9/9 [==============================] - ETA: 0s - loss: 0.0136 - accuracy: 1.0000\n",
            "Epoch 00025: val_loss improved from 0.02420 to 0.02058, saving model to saved_mode\n",
            "INFO:tensorflow:Assets written to: saved_mode/assets\n",
            "9/9 [==============================] - 18s 2s/step - loss: 0.0136 - accuracy: 1.0000 - val_loss: 0.0206 - val_accuracy: 1.0000\n",
            "Epoch 26/50\n",
            "9/9 [==============================] - ETA: 0s - loss: 0.0109 - accuracy: 1.0000\n",
            "Epoch 00026: val_loss improved from 0.02058 to 0.00768, saving model to saved_mode\n",
            "INFO:tensorflow:Assets written to: saved_mode/assets\n",
            "9/9 [==============================] - 17s 2s/step - loss: 0.0109 - accuracy: 1.0000 - val_loss: 0.0077 - val_accuracy: 1.0000\n",
            "Epoch 27/50\n",
            "9/9 [==============================] - ETA: 0s - loss: 0.0038 - accuracy: 1.0000\n",
            "Epoch 00027: val_loss did not improve from 0.00768\n",
            "9/9 [==============================] - 14s 2s/step - loss: 0.0038 - accuracy: 1.0000 - val_loss: 0.0134 - val_accuracy: 1.0000\n",
            "Epoch 28/50\n",
            "9/9 [==============================] - ETA: 0s - loss: 0.0131 - accuracy: 0.9961\n",
            "Epoch 00028: val_loss did not improve from 0.00768\n",
            "9/9 [==============================] - 14s 2s/step - loss: 0.0131 - accuracy: 0.9961 - val_loss: 0.0223 - val_accuracy: 1.0000\n",
            "Epoch 29/50\n",
            "9/9 [==============================] - ETA: 0s - loss: 0.0090 - accuracy: 1.0000\n",
            "Epoch 00029: val_loss did not improve from 0.00768\n",
            "9/9 [==============================] - 14s 2s/step - loss: 0.0090 - accuracy: 1.0000 - val_loss: 0.0096 - val_accuracy: 1.0000\n",
            "Epoch 30/50\n",
            "9/9 [==============================] - ETA: 0s - loss: 0.0033 - accuracy: 1.0000\n",
            "Epoch 00030: val_loss did not improve from 0.00768\n",
            "9/9 [==============================] - 14s 2s/step - loss: 0.0033 - accuracy: 1.0000 - val_loss: 0.0095 - val_accuracy: 1.0000\n",
            "Epoch 31/50\n",
            "9/9 [==============================] - ETA: 0s - loss: 0.0021 - accuracy: 1.0000\n",
            "Epoch 00031: val_loss improved from 0.00768 to 0.00542, saving model to saved_mode\n",
            "INFO:tensorflow:Assets written to: saved_mode/assets\n",
            "9/9 [==============================] - 17s 2s/step - loss: 0.0021 - accuracy: 1.0000 - val_loss: 0.0054 - val_accuracy: 1.0000\n",
            "Epoch 32/50\n",
            "9/9 [==============================] - ETA: 0s - loss: 0.0014 - accuracy: 1.0000\n",
            "Epoch 00032: val_loss did not improve from 0.00542\n",
            "9/9 [==============================] - 14s 2s/step - loss: 0.0014 - accuracy: 1.0000 - val_loss: 0.0058 - val_accuracy: 1.0000\n",
            "Epoch 33/50\n",
            "9/9 [==============================] - ETA: 0s - loss: 0.0012 - accuracy: 1.0000\n",
            "Epoch 00033: val_loss improved from 0.00542 to 0.00386, saving model to saved_mode\n",
            "INFO:tensorflow:Assets written to: saved_mode/assets\n",
            "9/9 [==============================] - 17s 2s/step - loss: 0.0012 - accuracy: 1.0000 - val_loss: 0.0039 - val_accuracy: 1.0000\n",
            "Epoch 34/50\n",
            "9/9 [==============================] - ETA: 0s - loss: 0.0018 - accuracy: 1.0000\n",
            "Epoch 00034: val_loss improved from 0.00386 to 0.00297, saving model to saved_mode\n",
            "INFO:tensorflow:Assets written to: saved_mode/assets\n",
            "9/9 [==============================] - 18s 2s/step - loss: 0.0018 - accuracy: 1.0000 - val_loss: 0.0030 - val_accuracy: 1.0000\n",
            "Epoch 35/50\n",
            "9/9 [==============================] - ETA: 0s - loss: 7.7158e-04 - accuracy: 1.0000\n",
            "Epoch 00035: val_loss did not improve from 0.00297\n",
            "9/9 [==============================] - 14s 2s/step - loss: 7.7158e-04 - accuracy: 1.0000 - val_loss: 0.0035 - val_accuracy: 1.0000\n",
            "Epoch 36/50\n",
            "9/9 [==============================] - ETA: 0s - loss: 6.2843e-04 - accuracy: 1.0000\n",
            "Epoch 00036: val_loss improved from 0.00297 to 0.00280, saving model to saved_mode\n",
            "INFO:tensorflow:Assets written to: saved_mode/assets\n",
            "9/9 [==============================] - 18s 2s/step - loss: 6.2843e-04 - accuracy: 1.0000 - val_loss: 0.0028 - val_accuracy: 1.0000\n",
            "Epoch 37/50\n",
            "9/9 [==============================] - ETA: 0s - loss: 5.4223e-04 - accuracy: 1.0000\n",
            "Epoch 00037: val_loss improved from 0.00280 to 0.00267, saving model to saved_mode\n",
            "INFO:tensorflow:Assets written to: saved_mode/assets\n",
            "9/9 [==============================] - 18s 2s/step - loss: 5.4223e-04 - accuracy: 1.0000 - val_loss: 0.0027 - val_accuracy: 1.0000\n",
            "Epoch 38/50\n",
            "9/9 [==============================] - ETA: 0s - loss: 4.5426e-04 - accuracy: 1.0000\n",
            "Epoch 00038: val_loss improved from 0.00267 to 0.00260, saving model to saved_mode\n",
            "INFO:tensorflow:Assets written to: saved_mode/assets\n",
            "9/9 [==============================] - 17s 2s/step - loss: 4.5426e-04 - accuracy: 1.0000 - val_loss: 0.0026 - val_accuracy: 1.0000\n",
            "Epoch 39/50\n",
            "9/9 [==============================] - ETA: 0s - loss: 3.9396e-04 - accuracy: 1.0000\n",
            "Epoch 00039: val_loss improved from 0.00260 to 0.00248, saving model to saved_mode\n",
            "INFO:tensorflow:Assets written to: saved_mode/assets\n",
            "9/9 [==============================] - 18s 2s/step - loss: 3.9396e-04 - accuracy: 1.0000 - val_loss: 0.0025 - val_accuracy: 1.0000\n",
            "Epoch 40/50\n",
            "9/9 [==============================] - ETA: 0s - loss: 3.5830e-04 - accuracy: 1.0000\n",
            "Epoch 00040: val_loss improved from 0.00248 to 0.00238, saving model to saved_mode\n",
            "INFO:tensorflow:Assets written to: saved_mode/assets\n",
            "9/9 [==============================] - 17s 2s/step - loss: 3.5830e-04 - accuracy: 1.0000 - val_loss: 0.0024 - val_accuracy: 1.0000\n",
            "Epoch 41/50\n",
            "9/9 [==============================] - ETA: 0s - loss: 3.3371e-04 - accuracy: 1.0000\n",
            "Epoch 00041: val_loss improved from 0.00238 to 0.00230, saving model to saved_mode\n",
            "INFO:tensorflow:Assets written to: saved_mode/assets\n",
            "9/9 [==============================] - 17s 2s/step - loss: 3.3371e-04 - accuracy: 1.0000 - val_loss: 0.0023 - val_accuracy: 1.0000\n",
            "Epoch 42/50\n",
            "9/9 [==============================] - ETA: 0s - loss: 3.1255e-04 - accuracy: 1.0000\n",
            "Epoch 00042: val_loss improved from 0.00230 to 0.00225, saving model to saved_mode\n",
            "INFO:tensorflow:Assets written to: saved_mode/assets\n",
            "9/9 [==============================] - 17s 2s/step - loss: 3.1255e-04 - accuracy: 1.0000 - val_loss: 0.0023 - val_accuracy: 1.0000\n",
            "Epoch 43/50\n",
            "9/9 [==============================] - ETA: 0s - loss: 2.9987e-04 - accuracy: 1.0000\n",
            "Epoch 00043: val_loss improved from 0.00225 to 0.00224, saving model to saved_mode\n",
            "INFO:tensorflow:Assets written to: saved_mode/assets\n",
            "9/9 [==============================] - 18s 2s/step - loss: 2.9987e-04 - accuracy: 1.0000 - val_loss: 0.0022 - val_accuracy: 1.0000\n",
            "Epoch 44/50\n",
            "9/9 [==============================] - ETA: 0s - loss: 2.8054e-04 - accuracy: 1.0000\n",
            "Epoch 00044: val_loss improved from 0.00224 to 0.00218, saving model to saved_mode\n",
            "INFO:tensorflow:Assets written to: saved_mode/assets\n",
            "9/9 [==============================] - 17s 2s/step - loss: 2.8054e-04 - accuracy: 1.0000 - val_loss: 0.0022 - val_accuracy: 1.0000\n",
            "Epoch 45/50\n",
            "9/9 [==============================] - ETA: 0s - loss: 2.6705e-04 - accuracy: 1.0000\n",
            "Epoch 00045: val_loss improved from 0.00218 to 0.00214, saving model to saved_mode\n",
            "INFO:tensorflow:Assets written to: saved_mode/assets\n",
            "9/9 [==============================] - 17s 2s/step - loss: 2.6705e-04 - accuracy: 1.0000 - val_loss: 0.0021 - val_accuracy: 1.0000\n",
            "Epoch 46/50\n",
            "9/9 [==============================] - ETA: 0s - loss: 2.5429e-04 - accuracy: 1.0000\n",
            "Epoch 00046: val_loss improved from 0.00214 to 0.00209, saving model to saved_mode\n",
            "INFO:tensorflow:Assets written to: saved_mode/assets\n",
            "9/9 [==============================] - 17s 2s/step - loss: 2.5429e-04 - accuracy: 1.0000 - val_loss: 0.0021 - val_accuracy: 1.0000\n",
            "Epoch 47/50\n",
            "9/9 [==============================] - ETA: 0s - loss: 2.4411e-04 - accuracy: 1.0000\n",
            "Epoch 00047: val_loss improved from 0.00209 to 0.00203, saving model to saved_mode\n",
            "INFO:tensorflow:Assets written to: saved_mode/assets\n",
            "9/9 [==============================] - 18s 2s/step - loss: 2.4411e-04 - accuracy: 1.0000 - val_loss: 0.0020 - val_accuracy: 1.0000\n",
            "Epoch 48/50\n",
            "9/9 [==============================] - ETA: 0s - loss: 2.3583e-04 - accuracy: 1.0000\n",
            "Epoch 00048: val_loss improved from 0.00203 to 0.00200, saving model to saved_mode\n",
            "INFO:tensorflow:Assets written to: saved_mode/assets\n",
            "9/9 [==============================] - 17s 2s/step - loss: 2.3583e-04 - accuracy: 1.0000 - val_loss: 0.0020 - val_accuracy: 1.0000\n",
            "Epoch 49/50\n",
            "9/9 [==============================] - ETA: 0s - loss: 2.2644e-04 - accuracy: 1.0000\n",
            "Epoch 00049: val_loss did not improve from 0.00200\n",
            "9/9 [==============================] - 14s 2s/step - loss: 2.2644e-04 - accuracy: 1.0000 - val_loss: 0.0020 - val_accuracy: 1.0000\n",
            "Epoch 50/50\n",
            "9/9 [==============================] - ETA: 0s - loss: 2.1567e-04 - accuracy: 1.0000\n",
            "Epoch 00050: val_loss improved from 0.00200 to 0.00197, saving model to saved_mode\n",
            "INFO:tensorflow:Assets written to: saved_mode/assets\n",
            "9/9 [==============================] - 17s 2s/step - loss: 2.1567e-04 - accuracy: 1.0000 - val_loss: 0.0020 - val_accuracy: 1.0000\n"
          ]
        }
      ]
    },
    {
      "cell_type": "code",
      "source": [
        "model.load_weights('saved_mode')"
      ],
      "metadata": {
        "colab": {
          "base_uri": "https://localhost:8080/"
        },
        "id": "4GvsYZtIERxm",
        "outputId": "bb5cf084-e858-4dd3-e24a-18b22522de09"
      },
      "execution_count": null,
      "outputs": [
        {
          "output_type": "execute_result",
          "data": {
            "text/plain": [
              "<tensorflow.python.training.tracking.util.CheckpointLoadStatus at 0x7f37202a8750>"
            ]
          },
          "metadata": {},
          "execution_count": 81
        }
      ]
    },
    {
      "cell_type": "markdown",
      "source": [
        "## **7. Evaluate Model**"
      ],
      "metadata": {
        "id": "GgXNF6bjr6hG"
      }
    },
    {
      "cell_type": "code",
      "source": [
        "model.evaluate([Xtest_anc, Xtest_comp], ytest_label)"
      ],
      "metadata": {
        "colab": {
          "base_uri": "https://localhost:8080/"
        },
        "id": "17XOy4ZdPwP2",
        "outputId": "c2295f44-69fa-48e6-fcbd-93285113ee12"
      },
      "execution_count": null,
      "outputs": [
        {
          "output_type": "stream",
          "name": "stdout",
          "text": [
            "3/3 [==============================] - 3s 1s/step - loss: 0.0019 - accuracy: 1.0000\n"
          ]
        },
        {
          "output_type": "execute_result",
          "data": {
            "text/plain": [
              "[0.00194244971498847, 1.0]"
            ]
          },
          "metadata": {},
          "execution_count": 115
        }
      ]
    },
    {
      "cell_type": "code",
      "source": [
        "test_prediction = model.predict([Xtest_anc, Xtest_comp])"
      ],
      "metadata": {
        "id": "2QHNxLNIC5ms"
      },
      "execution_count": null,
      "outputs": []
    },
    {
      "cell_type": "code",
      "source": [
        "threshold = 0.95\n",
        "yhat = [1 if pred > threshold else 0 for pred in test_prediction]\n",
        "p = Precision()\n",
        "p.update_state(yhat, ytest_label)\n",
        "\n",
        "\n",
        "m = Recall()\n",
        "m.update_state(yhat, ytest_label)\n",
        "\n",
        "\n",
        "print('Recall : ',m.result().numpy(),'\\nPrecision : ', p.result().numpy())"
      ],
      "metadata": {
        "colab": {
          "base_uri": "https://localhost:8080/"
        },
        "id": "2-3hFqogDmgb",
        "outputId": "d19172dc-2695-4a72-ed8f-5f61da2e0bc1"
      },
      "execution_count": null,
      "outputs": [
        {
          "output_type": "stream",
          "name": "stdout",
          "text": [
            "Recall :  1.0 \n",
            "Precision :  0.9714286\n"
          ]
        }
      ]
    },
    {
      "cell_type": "code",
      "source": [
        "import matplotlib.pyplot as plt\n",
        "\n",
        "# list all data in history\n",
        "print(model_history.history.keys())\n",
        "# summarize history for accuracy\n",
        "plt.plot(model_history.history['accuracy'])\n",
        "plt.plot(model_history.history['val_accuracy'])\n",
        "plt.title('model accuracy')\n",
        "plt.ylabel('accuracy')\n",
        "plt.xlabel('epoch')\n",
        "plt.legend(['train', 'test'], loc='upper left')\n",
        "plt.show()\n",
        "# summarize history for loss\n",
        "plt.plot(model_history.history['loss'])\n",
        "plt.plot(model_history.history['val_loss'])\n",
        "plt.title('model loss')\n",
        "plt.ylabel('loss')\n",
        "plt.xlabel('epoch')\n",
        "plt.legend(['train', 'test'], loc='upper left')\n",
        "plt.show()"
      ],
      "metadata": {
        "colab": {
          "base_uri": "https://localhost:8080/",
          "height": 590
        },
        "id": "t7jBNqyrEX6I",
        "outputId": "f7135c93-e73d-4b6a-e510-6cb9c9012f5f"
      },
      "execution_count": null,
      "outputs": [
        {
          "output_type": "stream",
          "name": "stdout",
          "text": [
            "dict_keys(['loss', 'accuracy', 'val_loss', 'val_accuracy'])\n"
          ]
        },
        {
          "output_type": "display_data",
          "data": {
            "image/png": "[encoded data removed]",
            "text/plain": [
              "<Figure size 432x288 with 1 Axes>"
            ]
          },
          "metadata": {
            "needs_background": "light"
          }
        },
        {
          "output_type": "display_data",
          "data": {
            "image/png": "[encoded data removed]",
            "text/plain": [
              "<Figure size 432x288 with 1 Axes>"
            ]
          },
          "metadata": {
            "needs_background": "light"
          }
        }
      ]
    },
    {
      "cell_type": "markdown",
      "source": [
        "## **8. Save Model**"
      ],
      "metadata": {
        "id": "LkyCeaDnsED6"
      }
    },
    {
      "cell_type": "code",
      "source": [
        "model.save('FR_SN.hdf5')"
      ],
      "metadata": {
        "id": "XWabiJlGkPSP",
        "colab": {
          "base_uri": "https://localhost:8080/"
        },
        "outputId": "41a05395-58a5-4d29-8bff-3629f8434c37"
      },
      "execution_count": 166,
      "outputs": [
        {
          "output_type": "stream",
          "name": "stdout",
          "text": [
            "WARNING:tensorflow:Compiled the loaded model, but the compiled metrics have yet to be built. `model.compile_metrics` will be empty until you train or evaluate the model.\n"
          ]
        }
      ]
    },
    {
      "cell_type": "code",
      "source": [
        ""
      ],
      "metadata": {
        "id": "WDwslGwCqiTs"
      },
      "execution_count": null,
      "outputs": []
    }
  ],
  "metadata": {
    "colab": {
      "name": "Untitled0.ipynb",
      "provenance": []
    },
    "kernelspec": {
      "display_name": "Python 3",
      "name": "python3"
    },
    "language_info": {
      "name": "python"
    },
    "accelerator": "GPU"
  },
  "nbformat": 4,
  "nbformat_minor": 0
}